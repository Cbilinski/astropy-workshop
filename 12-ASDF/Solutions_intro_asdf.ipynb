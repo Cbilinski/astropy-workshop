{
 "cells": [
  {
   "cell_type": "markdown",
   "id": "7f1489fa",
   "metadata": {},
   "source": [
    "### Exercise 1\n",
    "\n",
    "Reading and accessing data\n",
    "\n",
    "- Open the file `jwst.asdf` in the 02_Working_With_ASDF_Files directory. \n",
    "- Look at the `info` method's help and display the file using some of the arguments to show more contents.\n",
    "- Search for a few attributes - `wcs`, `data` (wcs stands for World Coordinate System. In astronomy it represents the transform from pixel coordinates to sky coordinates or some physical system.)\n",
    "- Retrieve the wcs object following the path showed by the search method\n",
    "- Look at the wcs object and print `wcs.forward_transform`\n",
    "- Use matplotlib to display the data array\n",
    "- Look at the data array and modify the value of data[0, 0] to 999."
   ]
  },
  {
   "cell_type": "code",
   "execution_count": null,
   "id": "a9577f18",
   "metadata": {},
   "outputs": [],
   "source": [
    "import asdf"
   ]
  },
  {
   "cell_type": "code",
   "execution_count": null,
   "id": "acb26440",
   "metadata": {},
   "outputs": [],
   "source": [
    "jw = asdf.open('jwst.asdf')\n",
    "jw.info()"
   ]
  },
  {
   "cell_type": "code",
   "execution_count": null,
   "id": "24c9f61f",
   "metadata": {},
   "outputs": [],
   "source": [
    "jw.info(max_rows=200, max_cols=200)"
   ]
  },
  {
   "cell_type": "code",
   "execution_count": null,
   "id": "c5992a5a",
   "metadata": {},
   "outputs": [],
   "source": [
    "jw.search('data')"
   ]
  },
  {
   "cell_type": "code",
   "execution_count": null,
   "id": "f9098ae9",
   "metadata": {},
   "outputs": [],
   "source": [
    "jw.search('wcs')"
   ]
  },
  {
   "cell_type": "code",
   "execution_count": null,
   "id": "59e63cb3",
   "metadata": {},
   "outputs": [],
   "source": [
    "wcs = jw['meta']['wcs']\n",
    "print(type(wcs))"
   ]
  },
  {
   "cell_type": "code",
   "execution_count": null,
   "id": "d2fa4890",
   "metadata": {},
   "outputs": [],
   "source": [
    "print(wcs.forward_transform)"
   ]
  },
  {
   "cell_type": "code",
   "execution_count": null,
   "id": "ca2bbec4",
   "metadata": {},
   "outputs": [],
   "source": [
    "sky = wcs.pixel_to_world(200, 300)\n",
    "print('ICRS :', sky)\n",
    "print('Galactic :',sky.galactic)"
   ]
  },
  {
   "cell_type": "code",
   "execution_count": null,
   "id": "f64f94dc",
   "metadata": {},
   "outputs": [],
   "source": [
    "from matplotlib import pyplot as plt\n",
    "\n",
    "plt.imshow(jw['data'])"
   ]
  },
  {
   "cell_type": "markdown",
   "id": "01597698",
   "metadata": {},
   "source": [
    "By default asdf opens files in `readonly` mode. Attempting to modify them raises an error.\n"
   ]
  },
  {
   "cell_type": "code",
   "execution_count": null,
   "id": "52eadc70",
   "metadata": {},
   "outputs": [],
   "source": [
    "jw['data'][0,0] = 900"
   ]
  },
  {
   "cell_type": "code",
   "execution_count": null,
   "id": "f1768c56",
   "metadata": {},
   "outputs": [],
   "source": []
  }
 ],
 "metadata": {
  "kernelspec": {
   "display_name": "Python 3 (ipykernel)",
   "language": "python",
   "name": "python3"
  },
  "language_info": {
   "codemirror_mode": {
    "name": "ipython",
    "version": 3
   },
   "file_extension": ".py",
   "mimetype": "text/x-python",
   "name": "python",
   "nbconvert_exporter": "python",
   "pygments_lexer": "ipython3",
   "version": "3.9.15"
  }
 },
 "nbformat": 4,
 "nbformat_minor": 5
}
