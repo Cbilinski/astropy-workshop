{
 "cells": [
  {
   "cell_type": "markdown",
   "metadata": {},
   "source": [
    "# Photutils Overview"
   ]
  },
  {
   "cell_type": "markdown",
   "metadata": {},
   "source": [
    "## Exercise solutions"
   ]
  },
  {
   "cell_type": "markdown",
   "metadata": {},
   "source": [
    "## Exercise 1"
   ]
  },
  {
   "cell_type": "markdown",
   "metadata": {},
   "source": [
    "`data/xdf_hst_wfc3ir_60mas_f105w_sci.fits` is an F105W image of the same field used for the preceding examples. These images are aligned, so source positions detected in the F160W image should correspond to the same source if they are visible in the F105W image. \n",
    "\n",
    "In the F105W image, find the countrate in a 5-pixel aperture radius of the 3 brightest sources detected in the F160W image (hint: read in the table of detected sources that was written to disk in the previous example)"
   ]
  },
  {
   "cell_type": "code",
   "execution_count": null,
   "metadata": {},
   "outputs": [],
   "source": [
    "from astropy.io import fits\n",
    "from astropy.table import Table\n",
    "from photutils import CircularAperture, aperture_photometry"
   ]
  },
  {
   "cell_type": "code",
   "execution_count": null,
   "metadata": {},
   "outputs": [],
   "source": [
    "import os\n",
    "\n",
    "sources_filename = 'my_detected_sources.ecsv'\n",
    "\n",
    "# This check is needed for continuous integration (CI) on GitHub.\n",
    "has_sources_file = os.path.exists(sources_filename)"
   ]
  },
  {
   "cell_type": "code",
   "execution_count": null,
   "metadata": {},
   "outputs": [],
   "source": [
    "# read in the data \n",
    "with fits.open('data/xdf_hst_wfc3ir_60mas_f105w_sci.fits') as f105w_sci_hdulist:\n",
    "    f105w_sci_data = f105w_sci_hdulist[0].data.copy()"
   ]
  },
  {
   "cell_type": "code",
   "execution_count": null,
   "metadata": {},
   "outputs": [],
   "source": [
    "# read in the table of sources detected in the F160W image\n",
    "if has_sources_file:\n",
    "    detected_sources = Table.read(sources_filename)"
   ]
  },
  {
   "cell_type": "code",
   "execution_count": null,
   "metadata": {},
   "outputs": [],
   "source": [
    "# sort table by source_sum column and select the 3 brightest\n",
    "if has_sources_file:\n",
    "    detected_sources.sort('source_sum', reverse=True)\n",
    "    three_brightest = detected_sources[0:3]"
   ]
  },
  {
   "cell_type": "code",
   "execution_count": null,
   "metadata": {},
   "outputs": [],
   "source": [
    "if has_sources_file:\n",
    "    # pull out x, y coordinates from table\n",
    "    x = three_brightest['xcentroid']\n",
    "    y = three_brightest['ycentroid']\n",
    "\n",
    "    # make list of tuples of coordinate pairs\n",
    "    positions = list(zip(x, y))\n",
    "    print(positions)"
   ]
  },
  {
   "cell_type": "code",
   "execution_count": null,
   "metadata": {},
   "outputs": [],
   "source": [
    "if has_sources_file:\n",
    "    # construct 5-pixel radius circular aperture object\n",
    "    aperture = CircularAperture(positions, r=5)\n",
    "\n",
    "    # run aperture photometry\n",
    "    phot = aperture_photometry(f105w_sci_data, aperture)"
   ]
  },
  {
   "cell_type": "code",
   "execution_count": null,
   "metadata": {},
   "outputs": [],
   "source": [
    "# inspect photometry table\n",
    "if has_sources_file:\n",
    "    phot"
   ]
  }
 ],
 "metadata": {
  "kernelspec": {
   "display_name": "Python 3",
   "language": "python",
   "name": "python3"
  },
  "language_info": {
   "codemirror_mode": {
    "name": "ipython",
    "version": 3
   },
   "file_extension": ".py",
   "mimetype": "text/x-python",
   "name": "python",
   "nbconvert_exporter": "python",
   "pygments_lexer": "ipython3",
   "version": "3.7.4"
  }
 },
 "nbformat": 4,
 "nbformat_minor": 2
}
