{
 "cells": [
  {
   "cell_type": "markdown",
   "metadata": {},
   "source": [
    "# Photutils Overview"
   ]
  },
  {
   "cell_type": "markdown",
   "metadata": {},
   "source": [
    "## Exercise solutions"
   ]
  },
  {
   "cell_type": "markdown",
   "metadata": {},
   "source": [
    "## Exercise 1"
   ]
  },
  {
   "cell_type": "markdown",
   "metadata": {},
   "source": [
    "`data/xdf_hst_wfc3ir_60mas_f105w_sci.fits` is an F105W image of the same field used for the preceding examples. These images are aligned, so source positions detected in the F160W image should correspond to the same source if they are visible in the F105W image. \n",
    "\n",
    "In the F105W image, find the countrate in a 5-pixel aperture radius of the 3 brightest sources detected in the F160W image (hint: read in the table of detected sources that was written to disk in the previous example)"
   ]
  },
  {
   "cell_type": "code",
   "execution_count": 37,
   "metadata": {},
   "outputs": [],
   "source": [
    "from astropy.io import fits\n",
    "from astropy.table import Table\n",
    "from photutils import CircularAperture, aperture_photometry"
   ]
  },
  {
   "cell_type": "code",
   "execution_count": 40,
   "metadata": {},
   "outputs": [],
   "source": [
    "# read in the data \n",
    "f105w_sci_hdulist = fits.open('data/xdf_hst_wfc3ir_60mas_f105w_sci.fits')\n",
    "f105w_sci_data = f105w_sci_hdulist[0].data\n",
    "\n",
    "# read in the table of sources detected in the F160W image\n",
    "detected_sources = Table.read('my_detected_sources.txt', format='ascii.ecsv')"
   ]
  },
  {
   "cell_type": "code",
   "execution_count": 41,
   "metadata": {},
   "outputs": [],
   "source": [
    "# sort table by source_sum column and select the 3 brightest\n",
    "detected_sources.sort('source_sum')\n",
    "detected_sources.reverse()\n",
    "three_brightest = detected_sources[0:3]"
   ]
  },
  {
   "cell_type": "code",
   "execution_count": 42,
   "metadata": {},
   "outputs": [
    {
     "data": {
      "text/plain": [
       "[(186.94149524009447, 119.33278672140875),\n",
       " (159.1530544625218, 62.67425991294218),\n",
       " (73.60684792073822, 139.45544954074361)]"
      ]
     },
     "execution_count": 42,
     "metadata": {},
     "output_type": "execute_result"
    }
   ],
   "source": [
    "# pull out x, y coordinates from table\n",
    "x = three_brightest['xcentroid']\n",
    "y = three_brightest['ycentroid']\n",
    "\n",
    "# make list of tuples of coordinate pairs\n",
    "positions = list(zip(x, y))\n",
    "positions"
   ]
  },
  {
   "cell_type": "code",
   "execution_count": 45,
   "metadata": {},
   "outputs": [],
   "source": [
    "# construct 5-pixel radius circular aperture object\n",
    "aperture = CircularAperture(positions, r=5)\n",
    "\n",
    "# run aperture photometry\n",
    "phot = aperture_photometry(f105w_sci_data, aperture)\n"
   ]
  },
  {
   "cell_type": "code",
   "execution_count": 46,
   "metadata": {},
   "outputs": [
    {
     "data": {
      "text/html": [
       "<i>QTable length=3</i>\n",
       "<table id=\"table4736073568\" class=\"table-striped table-bordered table-condensed\">\n",
       "<thead><tr><th>id</th><th>xcenter</th><th>ycenter</th><th>aperture_sum</th></tr></thead>\n",
       "<thead><tr><th></th><th>pix</th><th>pix</th><th></th></tr></thead>\n",
       "<thead><tr><th>int64</th><th>float64</th><th>float64</th><th>float64</th></tr></thead>\n",
       "<tr><td>1</td><td>186.94149524009447</td><td>119.33278672140875</td><td>1.9365915934381521</td></tr>\n",
       "<tr><td>2</td><td>159.1530544625218</td><td>62.67425991294218</td><td>0.8595147855407592</td></tr>\n",
       "<tr><td>3</td><td>73.60684792073822</td><td>139.45544954074361</td><td>0.5643753267720801</td></tr>\n",
       "</table>"
      ],
      "text/plain": [
       "<QTable length=3>\n",
       "  id       xcenter            ycenter          aperture_sum   \n",
       "             pix                pix                           \n",
       "int64      float64            float64            float64      \n",
       "----- ------------------ ------------------ ------------------\n",
       "    1 186.94149524009447 119.33278672140875 1.9365915934381521\n",
       "    2  159.1530544625218  62.67425991294218 0.8595147855407592\n",
       "    3  73.60684792073822 139.45544954074361 0.5643753267720801"
      ]
     },
     "execution_count": 46,
     "metadata": {},
     "output_type": "execute_result"
    }
   ],
   "source": [
    "# inspect photometry table. All sources are brighter in F105W than they are in F160W\n",
    "phot"
   ]
  }
 ],
 "metadata": {
  "kernelspec": {
   "display_name": "Python 3",
   "language": "python",
   "name": "python3"
  },
  "language_info": {
   "codemirror_mode": {
    "name": "ipython",
    "version": 3
   },
   "file_extension": ".py",
   "mimetype": "text/x-python",
   "name": "python",
   "nbconvert_exporter": "python",
   "pygments_lexer": "ipython3",
   "version": "3.6.9"
  }
 },
 "nbformat": 4,
 "nbformat_minor": 2
}
