{
 "cells": [
  {
   "cell_type": "markdown",
   "metadata": {},
   "source": [
    "<img src=\"data/photutils_banner.svg\" width=500 alt=\"Photutils logo\" style=\"margin-left: 0;\">"
   ]
  },
  {
   "cell_type": "markdown",
   "metadata": {},
   "source": [
    "# Photutils Overview Exercise Solutions"
   ]
  },
  {
   "cell_type": "markdown",
   "metadata": {},
   "source": [
    "## Exercise 1"
   ]
  },
  {
   "cell_type": "markdown",
   "metadata": {},
   "source": [
    "The [**data/**](data) subdirectory also contains a WFC3/IR F105W image of the same field used for the preceding examples. The F105W and F160W images are pixel aligned, so sources in the F105W image are located at the same detected positions as the F160W image (if they are visible in the F105W image). \n",
    "\n",
    "In the F105W image, find the count rate in a circular aperture with a 5-pixel radius of the 3 brightest sources in isophotal flux (i.e., the `segment_flux` column) detected in the F160W image.\n",
    "\n",
    "Hint: we previously saved the F160W catalog to an ECSV file called `xdf_f160w_catalog.ecsv`"
   ]
  },
  {
   "cell_type": "code",
   "execution_count": null,
   "metadata": {},
   "outputs": [],
   "source": [
    "from astropy.io import fits\n",
    "from astropy.table import QTable\n",
    "import astropy.units as u\n",
    "from photutils.aperture import CircularAperture, aperture_photometry\n",
    "from photutils.segmentation import SegmentationImage"
   ]
  },
  {
   "cell_type": "code",
   "execution_count": null,
   "metadata": {},
   "outputs": [],
   "source": [
    "# read in the F105W science data \n",
    "f105w_data = fits.getdata('data/xdf_hst_wfc3ir_60mas_f105w_sci.fits')\n",
    "f105w_data *= (u.electron / u.s)"
   ]
  },
  {
   "cell_type": "code",
   "execution_count": null,
   "metadata": {},
   "outputs": [],
   "source": [
    "import os\n",
    "\n",
    "# these files were saved in the photutils_overview.ipynb notebook\n",
    "f160w_catalog_filename = 'xdf_f160w_catalog.ecsv'\n",
    "f160w_segm_filename = 'xdf_f160w_segm.fits'\n",
    "\n",
    "# This check is needed for continuous integration (CI) on GitHub.\n",
    "has_files = (os.path.exists(f160w_catalog_filename) &\n",
    "             os.path.exists(f160w_segm_filename))\n",
    "\n",
    "# read in the table of sources detected in the F160W image\n",
    "# and the F160W segmentation image\n",
    "if has_files:\n",
    "    f160w_tbl = QTable.read(f160w_catalog_filename)\n",
    "    \n",
    "    f160w_segm_data = fits.getdata(f160w_segm_filename)\n",
    "    f160w_segm = SegmentationImage(f160w_segm_data)"
   ]
  },
  {
   "cell_type": "code",
   "execution_count": null,
   "metadata": {},
   "outputs": [],
   "source": [
    "if has_files:\n",
    "    # sort table by isophotal flux (the segment_flux column) and select the 3 brightest\n",
    "    idx = np.argsort(f160w_tbl['segment_flux'])[::-1][:3]\n",
    "    brightest = f160w_tbl[idx]\n",
    "    print(brightest)"
   ]
  },
  {
   "cell_type": "code",
   "execution_count": null,
   "metadata": {},
   "outputs": [],
   "source": [
    "if has_files:\n",
    "    # use the (x, y) coordinates from the F160W table\n",
    "    xypos = np.transpose((brightest['xcentroid'], brightest['ycentroid']))\n",
    "    aperture = CircularAperture(xypos, r=5)\n",
    "    f105w_phot = aperture_photometry(f105w_data, aperture)\n",
    "    print(f105w_phot)"
   ]
  },
  {
   "cell_type": "markdown",
   "metadata": {},
   "source": [
    "## Exercise 2"
   ]
  },
  {
   "cell_type": "markdown",
   "metadata": {},
   "source": [
    "Calculate the $Y_{105} - H_{160}$ (F105W $-$ F160W) isophotal colors for all sources detected in the F160W image.\n",
    "\n",
    "The WFC3/IR F105W and F160W AB magnitude zero points are 26.2687 and 25.9463, respectively.\n",
    "\n",
    "Hints: \n",
    "\n",
    "* The isophotal fluxes are found in the `segment_flux` column.\n",
    "\n",
    "* Because the images are pixel aligned, the F160W segmentation image can be directly applied to the F105W image.\n",
    "\n",
    "* We previously saved the F160W segmentation image in a file called `xdf_f160w_segm.fits`."
   ]
  },
  {
   "cell_type": "code",
   "execution_count": null,
   "metadata": {},
   "outputs": [],
   "source": [
    "from photutils.segmentation import SourceCatalog\n",
    "\n",
    "if has_files:\n",
    "    f105w_cat = SourceCatalog(f105w_data, f160w_segm)"
   ]
  },
  {
   "cell_type": "code",
   "execution_count": null,
   "metadata": {},
   "outputs": [],
   "source": [
    "if has_files:\n",
    "    f105w_abmag = -2.5 * np.log10(f105w_cat.segment_flux.value) + 26.2687\n",
    "    f160w_abmag = -2.5 * np.log10(f160w_tbl['segment_flux'].value) + 26.9463\n",
    "    \n",
    "    yh_color = f105w_abmag - f160w_abmag\n",
    "    print(yh_color)"
   ]
  }
 ],
 "metadata": {
  "kernelspec": {
   "display_name": "Python 3",
   "language": "python",
   "name": "python3"
  },
  "language_info": {
   "codemirror_mode": {
    "name": "ipython",
    "version": 3
   },
   "file_extension": ".py",
   "mimetype": "text/x-python",
   "name": "python",
   "nbconvert_exporter": "python",
   "pygments_lexer": "ipython3",
   "version": "3.9.4"
  }
 },
 "nbformat": 4,
 "nbformat_minor": 2
}
