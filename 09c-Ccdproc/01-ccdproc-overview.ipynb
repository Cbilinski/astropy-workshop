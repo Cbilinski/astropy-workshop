{
 "cells": [
  {
   "cell_type": "markdown",
   "metadata": {},
   "source": [
    "<img src=\"data/ccdproc_banner.svg\" width=500 alt=\"ccdproc logo\">"
   ]
  },
  {
   "cell_type": "markdown",
   "metadata": {},
   "source": [
    "# ccdproc\n",
    "\n",
    "+ Code: https://github.com/astropy/ccdproc\n",
    "+ Documentation: https://ccdproc.readthedocs.io/\n",
    "+ Detailed image reduction guide using ccdproc: https://github.com/astropy/ccd-reduction-and-photometry-guide"
   ]
  },
  {
   "cell_type": "markdown",
   "metadata": {},
   "source": [
    "## ccdproc can\n",
    "\n",
    "+ Perform essential image reduction operations\n",
    "+ Combine images\n",
    "+ Tools for working sets of images"
   ]
  },
  {
   "cell_type": "markdown",
   "metadata": {},
   "source": [
    "## In this section we will\n",
    "\n",
    "+ learn how ccdproc represents images in Python\n",
    "+ learn how to reduce images\n",
    "\n",
    "<hr>"
   ]
  },
  {
   "cell_type": "markdown",
   "metadata": {},
   "source": [
    "## Preliminaries"
   ]
  },
  {
   "cell_type": "code",
   "execution_count": 1,
   "metadata": {},
   "outputs": [
    {
     "name": "stderr",
     "output_type": "stream",
     "text": [
      "WARNING: AstropyDeprecationWarning: block_reduce was moved to the astropy.nddata.blocks module.  Please update your import statement. [astropy.nddata.utils]\n",
      "WARNING: AstropyDeprecationWarning: block_replicate was moved to the astropy.nddata.blocks module.  Please update your import statement. [astropy.nddata.utils]\n"
     ]
    }
   ],
   "source": [
    "# Initial imports -- note one is from astropy!\n",
    "from astropy.nddata import CCDData\n",
    "import ccdproc as ccdp\n",
    "\n",
    "from matplotlib import pyplot as plt\n",
    "\n",
    "# This displays static plots in the notebook...it will always work\n",
    "%matplotlib inline\n",
    "\n",
    "# Use this instead for interactive plots, but note that you may need \n",
    "# to install ipympl for it to work\n",
    "# %matplotlib widget"
   ]
  },
  {
   "cell_type": "markdown",
   "metadata": {},
   "source": [
    "### Load an image\n",
    "\n",
    "Although images are almost always stored as FITS files, you should use `CCDData.read()` to open single images to use in `ccdproc`. Ways to work with collections of images (like a directory of images) will be discussed later."
   ]
  },
  {
   "cell_type": "code",
   "execution_count": null,
   "metadata": {},
   "outputs": [],
   "source": [
    "raw_stars = CCDData.read('data/')"
   ]
  }
 ],
 "metadata": {
  "kernelspec": {
   "display_name": "Python 3",
   "language": "python",
   "name": "python3"
  },
  "language_info": {
   "codemirror_mode": {
    "name": "ipython",
    "version": 3
   },
   "file_extension": ".py",
   "mimetype": "text/x-python",
   "name": "python",
   "nbconvert_exporter": "python",
   "pygments_lexer": "ipython3",
   "version": "3.8.5"
  }
 },
 "nbformat": 4,
 "nbformat_minor": 4
}
