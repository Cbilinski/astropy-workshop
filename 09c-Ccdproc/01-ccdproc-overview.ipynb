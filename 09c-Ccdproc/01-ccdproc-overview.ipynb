{
 "cells": [
  {
   "cell_type": "markdown",
   "metadata": {},
   "source": [
    "<img src=\"data/ccdproc_banner.svg\" width=500 alt=\"ccdproc logo\">"
   ]
  },
  {
   "cell_type": "markdown",
   "metadata": {},
   "source": [
    "# ccdproc\n",
    "\n",
    "+ Code: https://github.com/astropy/ccdproc\n",
    "+ Documentation: https://ccdproc.readthedocs.io/\n",
    "+ Detailed image reduction guide using ccdproc: https://github.com/astropy/ccd-reduction-and-photometry-guide"
   ]
  },
  {
   "cell_type": "markdown",
   "metadata": {},
   "source": [
    "## ccdproc can\n",
    "\n",
    "+ Perform essential image reduction operations\n",
    "+ Combine images\n",
    "+ Tools for working sets of images"
   ]
  },
  {
   "cell_type": "markdown",
   "metadata": {},
   "source": [
    "## In this section we will\n",
    "\n",
    "+ learn how ccdproc represents images in Python\n",
    "+ learn how to reduce images\n",
    "\n",
    "<hr>"
   ]
  },
  {
   "cell_type": "markdown",
   "metadata": {},
   "source": [
    "## Preliminaries"
   ]
  },
  {
   "cell_type": "code",
   "execution_count": null,
   "metadata": {},
   "outputs": [],
   "source": [
    "# Initial imports -- note the import of CCDData from astropy \n",
    "from astropy.nddata import CCDData\n",
    "from astropy import units as u\n",
    "import ccdproc as ccdp\n",
    "\n",
    "from matplotlib import pyplot as plt\n",
    "\n",
    "# This displays static plots in the notebook...it will always work\n",
    "%matplotlib inline\n",
    "\n",
    "# Use this instead for interactive plots, but note that you may need \n",
    "# to install ipympl for it to work\n",
    "# %matplotlib widget\n",
    "\n",
    "# This function display reasonably nicely with minimal effort\n",
    "from convenience_functions import show_image"
   ]
  },
  {
   "cell_type": "markdown",
   "metadata": {},
   "source": [
    "### Load an image\n",
    "\n",
    "Although images are almost always stored as FITS files, you should use `CCDData.read()` to open single images to use in `ccdproc`. Ways to work with collections of images (like a directory of images) will be discussed later."
   ]
  },
  {
   "cell_type": "code",
   "execution_count": null,
   "metadata": {},
   "outputs": [],
   "source": [
    "raw_stars = CCDData.read('data/kelt-16-b-S001-R001-C084-r.fit.gz')"
   ]
  },
  {
   "cell_type": "markdown",
   "metadata": {},
   "source": [
    "An image loaded this way has a few convient attributes:\n"
   ]
  },
  {
   "cell_type": "code",
   "execution_count": null,
   "metadata": {},
   "outputs": [],
   "source": [
    "# Display the data \n",
    "print(raw_stars.data)"
   ]
  },
  {
   "cell_type": "code",
   "execution_count": null,
   "metadata": {},
   "outputs": [],
   "source": [
    "# Display the header\n",
    "print(raw_stars.header)"
   ]
  },
  {
   "cell_type": "markdown",
   "metadata": {},
   "source": [
    "The header is a regular `astropy.io.fits` header object, so you can access keywords like it is a Python dictionary. For example, to get the exposure time by itself, run the cell below:"
   ]
  },
  {
   "cell_type": "code",
   "execution_count": null,
   "metadata": {},
   "outputs": [],
   "source": [
    "raw_stars.header['exposure']"
   ]
  },
  {
   "cell_type": "markdown",
   "metadata": {},
   "source": [
    "#### Displaying images\n",
    "\n",
    "Images from a telescope are typically very different, in terms of the histogram of values, than other images. The function `show_image`, included along with this notebook, scales and stretches the data to bring out some of the detail that is not visible using matplotlib defaults."
   ]
  },
  {
   "cell_type": "code",
   "execution_count": null,
   "metadata": {},
   "outputs": [],
   "source": [
    "show_image(raw_stars)"
   ]
  },
  {
   "cell_type": "markdown",
   "metadata": {},
   "source": [
    "### ⚠️ watch out for this\n",
    "\n",
    "When you create a `CCDData` object you need to provide a unit. The images we are using today have a unit defined in the FITS header (in the `BUNIT` keyword). You can specify a unit, if necessary, as described here: https://ccdproc.readthedocs.io/en/latest/ccddata.html#getting-data-in"
   ]
  },
  {
   "cell_type": "markdown",
   "metadata": {},
   "source": [
    "## Image reduction\n",
    "\n",
    "\n",
    "### For a more detailed discussion see the [CCD reduction guide](https://mwcraig.github.io/ccd-as-book/01-00-Understanding-an-astronomical-CCD-image.html)\n",
    "\n",
    "You can think of an astronomical image as being build from a few sources:\n",
    "\n",
    "$$\n",
    "\\text{raw image} = \\text{bias} + \\text{noise} + \\text{dark current} + \\text{flat} \\times (\\text{sky} + \\text{stars}).\n",
    "$$\n",
    "\n",
    "Solving for the counts just from the stars gives the following:\n",
    "\n",
    "$$\n",
    "\\text{stars} + \\text{noise} = \\frac{\\text{raw image} - \\text{bias} - \\text{dark current}}{\\text{flat}} - \\text{sky}\n",
    "$$\n",
    "\n",
    "**It is *impossible* to remove the noise from the raw image because the noise is\n",
    "random.**\n",
    "\n",
    "`ccdproc` provides functions for each of the operations on the right: bias subtraction, dark subtraction and flat correction. The output of one step becomes the input of the next step.\n"
   ]
  },
  {
   "cell_type": "markdown",
   "metadata": {},
   "source": [
    "### About the calibration images\n",
    "\n",
    "Each of the calibration images below was generate by combining 10 or 20 individual images. We will discuss image combination in the next notebook of this tutorial."
   ]
  },
  {
   "cell_type": "markdown",
   "metadata": {},
   "source": [
    "### Bias subtraction\n",
    "\n",
    "In this and each of the next steps we will read in the calibration file and use the appropriate function from `ccdproc` to apply it to the data. \n",
    "\n",
    "Bias calibration is done by the function `ccdproc.subtract_bias`."
   ]
  },
  {
   "cell_type": "code",
   "execution_count": null,
   "metadata": {},
   "outputs": [],
   "source": [
    "# Read the data\n",
    "\n",
    "bias = CCDData.read('data/combined_bias.fit.gz')"
   ]
  },
  {
   "cell_type": "code",
   "execution_count": null,
   "metadata": {},
   "outputs": [],
   "source": [
    "stars_minus_bias = ccdp.subtract_bias(raw_stars, bias)"
   ]
  },
  {
   "cell_type": "markdown",
   "metadata": {},
   "source": [
    "Let's check how the bias subtraction affected the image. In particular, we are looking to see whether the vertical bright line in the initial image has been removed."
   ]
  },
  {
   "cell_type": "code",
   "execution_count": null,
   "metadata": {},
   "outputs": [],
   "source": [
    "show_image(stars_minus_bias)"
   ]
  },
  {
   "cell_type": "markdown",
   "metadata": {},
   "source": [
    "### Dark subtraction\n",
    "\n",
    "The amount of dark current in an image depends on the exposure time of the image. The combined dark needs to be properly scaled if its exposure time doesn't match the exposure time of the science image. The function `ccdproc.subtract_dark` can handle that scaling for you as long as indicate which FITS keyword contains the exposure time and what the exposure time units are, or explicitly provide both the exposure time of the dark frame and the exposure time of the bias-subtracted science image."
   ]
  },
  {
   "cell_type": "code",
   "execution_count": null,
   "metadata": {},
   "outputs": [],
   "source": [
    "# Read the dark frame\n",
    "\n",
    "dark = CCDData.read('data/combined_dark_90.000.fit.gz')"
   ]
  },
  {
   "cell_type": "markdown",
   "metadata": {},
   "source": [
    "Note that the first argument to `ccdproc.subtract_dark` is the bias-subtracted image."
   ]
  },
  {
   "cell_type": "code",
   "execution_count": null,
   "metadata": {},
   "outputs": [],
   "source": [
    "stars_minus_bias_minus_dark = ccdp.subtract_dark(stars_minus_bias, dark,\n",
    "                                                 exposure_time='exposure',\n",
    "                                                 exposure_unit=u.second)"
   ]
  },
  {
   "cell_type": "markdown",
   "metadata": {},
   "source": [
    "Dark calibration should have removed the \"hot\" pixels in the initial image. Let's check that it did."
   ]
  },
  {
   "cell_type": "code",
   "execution_count": null,
   "metadata": {},
   "outputs": [],
   "source": [
    "show_image(stars_minus_bias_minus_dark)"
   ]
  },
  {
   "cell_type": "markdown",
   "metadata": {},
   "source": [
    "### Flat correction\n",
    "\n",
    "The final step in the calibration is to apply flat corrections using `ccdproc.flat_correct`. "
   ]
  },
  {
   "cell_type": "code",
   "execution_count": null,
   "metadata": {},
   "outputs": [],
   "source": [
    "flat = CCDData.read('data/combined_flat_filter_r.fit.gz')"
   ]
  },
  {
   "cell_type": "markdown",
   "metadata": {},
   "source": [
    "As with the other reduction steps, the first argument is the output of the previous reduction step and the second is the calibration image to be applied."
   ]
  },
  {
   "cell_type": "code",
   "execution_count": null,
   "metadata": {},
   "outputs": [],
   "source": [
    "stars_calibrated = ccdp.flat_correct(stars_minus_bias_minus_dark, flat)"
   ]
  },
  {
   "cell_type": "markdown",
   "metadata": {},
   "source": [
    "This calibrated image will not look that much different than the one with bias and dark subtraction, particular because this is a small section of a much larger (4k × 4k) image so there is not much variation in sensitivity across this sub-image."
   ]
  },
  {
   "cell_type": "code",
   "execution_count": null,
   "metadata": {},
   "outputs": [],
   "source": [
    "show_image(stars_calibrated)"
   ]
  },
  {
   "cell_type": "markdown",
   "metadata": {},
   "source": [
    "## Why not just subtract and/or divide arrays?\n",
    "\n",
    "### ccdproc handles uncertainty propagation -- and more!\n",
    "\n",
    "Both the bias and dark calibration images used in this tutorial have uncertainty arrays stored with them. By using `ccdproc` instead of, for example, simplay subtracting the bias values from the raw science image values, those uncertainties are properly propagated. That continues with each of the subsequent steps.\n",
    "\n",
    "Another advantage of using `ccdproc` is that things like scaling of the dark calibration exposure time to that of the science image (and proper scaling of any uncertainty in the dark frame) are also taken care of.\n",
    "\n",
    "Finally, there is a built in mechanism for automatically updating headers as you procede."
   ]
  },
  {
   "cell_type": "markdown",
   "metadata": {},
   "source": [
    "## A more compact approach\n",
    "\n",
    "The function `ccd_process`, described [briefly here](https://ccdproc.readthedocs.io/en/latest/reduction_toolbox.html#basic-processing-with-a-single-command) and in [much more detail here](https://ccdproc.readthedocs.io/en/latest/api/ccdproc.ccd_process.html#ccdproc.ccd_process), performs all of the reductions steps on a single image with one call."
   ]
  },
  {
   "cell_type": "markdown",
   "metadata": {},
   "source": [
    "### Exercise\n",
    "\n",
    "Read the descriptions of `ccd_process` and try to use it to calibrate the image `stars_raw`.\n",
    "\n",
    "Note that for the images in this tutorial you do not need provide values for `trim` or `oscan` ."
   ]
  },
  {
   "cell_type": "code",
   "execution_count": null,
   "metadata": {},
   "outputs": [],
   "source": []
  }
 ],
 "metadata": {
  "kernelspec": {
   "display_name": "Python 3",
   "language": "python",
   "name": "python3"
  },
  "language_info": {
   "codemirror_mode": {
    "name": "ipython",
    "version": 3
   },
   "file_extension": ".py",
   "mimetype": "text/x-python",
   "name": "python",
   "nbconvert_exporter": "python",
   "pygments_lexer": "ipython3",
   "version": "3.8.5"
  }
 },
 "nbformat": 4,
 "nbformat_minor": 4
}
