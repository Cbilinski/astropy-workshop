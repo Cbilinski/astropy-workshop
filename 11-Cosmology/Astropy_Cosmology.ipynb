{
 "cells": [
  {
   "cell_type": "markdown",
   "metadata": {},
   "source": [
    "# Astropy Cosmologies"
   ]
  },
  {
   "cell_type": "markdown",
   "metadata": {},
   "source": [
    "Astropy includes a convenient framework for defining cosmologies and working with realizations thereof.  These realizations hold the cosmological parameters and enable computation of a variety of redshift-parameterized properties, e.g. the luminosity distance.\n",
    "\n",
    "For more information about the features presented below, please see the\n",
    "[astropy.cosmology](https://docs.astropy.org/en/stable/cosmology/index.html) docs.\n",
    "\n",
    "Also note that this tutorial assumes you have little or no knowledge of the astropy cosmology docs.  If you're familiar with them and have interest in extending this framework to more cosmologies, realizations, or methods, Astropy always welcomes contributions."
   ]
  },
  {
   "cell_type": "markdown",
   "metadata": {},
   "source": [
    "## Introduction"
   ]
  },
  {
   "cell_type": "markdown",
   "metadata": {},
   "source": [
    "The [``astropy.cosmology``](https://docs.astropy.org/en/stable/cosmology/index.html) package provides an object-oriented approach to cosmology that tightly integrates with the rest of the Astropy ecosystem, and units in particular.\n",
    "\n",
    "With that in mind, the following is the standard set of imports to begin working with the cosmology package."
   ]
  },
  {
   "cell_type": "code",
   "execution_count": 1,
   "metadata": {},
   "outputs": [],
   "source": [
    "from astropy import cosmology\n",
    "import astropy.units as u"
   ]
  },
  {
   "cell_type": "markdown",
   "metadata": {},
   "source": [
    "The first thing we will need is to select a cosmology, essentially the physics, in which to work. The most commonly used is a flat $\\Lambda$CDM cosmology with a Friedmann–Lemaître–Robertson–Walker (FLRW) metric. We will use it here as well.\n",
    "\n",
    "Concordant to OOP, in ``astropy.cosmology`` the cosmology types are classes and realizations of those cosmologies are instances of the classes. We can import the flat-$\\Lambda$CDM cosmology and examine its public methods and attributes:"
   ]
  },
  {
   "cell_type": "code",
   "execution_count": 2,
   "metadata": {},
   "outputs": [
    {
     "name": "stdout",
     "output_type": "stream",
     "text": [
      "Attributes:  {'m_nu', 'critical_density0', 'Tcmb0', 'hubble_time', 'Onu0', 'H0', 'Ok0', 'name', 'hubble_distance', 'Neff', 'h', 'Ogamma0', 'Odm0', 'Om0', 'Ob0', 'Ode0', 'Tnu0', 'has_massive_nu'}\n",
      "\n",
      "Methods:  {'Ok', 'Om', 'comoving_volume', 'abs_distance_integrand', 'angular_diameter_distance_z1z2', 'Ode', 'comoving_transverse_distance', 'comoving_distance', 'arcsec_per_kpc_proper', 'lookback_time', 'luminosity_distance', 'Ogamma', 'de_density_scale', 'differential_comoving_volume', 'critical_density', 'scale_factor', 'efunc', 'inv_efunc', 'Tcmb', 'Onu', 'age', 'w', 'kpc_proper_per_arcmin', 'lookback_time_integrand', 'Ob', 'lookback_distance', 'Tnu', 'kpc_comoving_per_arcmin', 'arcsec_per_kpc_comoving', 'clone', 'nu_relative_density', 'Odm', 'absorption_distance', 'H', 'angular_diameter_distance', 'distmod'}\n"
     ]
    }
   ],
   "source": [
    "from astropy.cosmology import FlatLambdaCDM  # same as cosmology.FlatLambdaCDM\n",
    "\n",
    "pubdir = {x for x in dir(FlatLambdaCDM) if not x.startswith(\"_\")}\n",
    "print(\"Attributes: \", {x for x in pubdir if not callable(getattr(FlatLambdaCDM, x))})\n",
    "print(\"\\nMethods: \", {x for x in pubdir if callable(getattr(FlatLambdaCDM, x))})"
   ]
  },
  {
   "cell_type": "markdown",
   "metadata": {},
   "source": [
    "Most of the attributes are for components to the energy density (e.g. `.Onu0`) or derivations like the Hubble time (`.hubble_time`).\n",
    "\n",
    "The methods are for more involved calculations, like the comoving volume (``.comoving_volume()``)."
   ]
  },
  {
   "cell_type": "markdown",
   "metadata": {},
   "source": [
    "Before we dive into using the ``FlatLambdaCDM`` cosmology, it is worth noting that there are numerous other cosmologies, many offering alternative dark energy models."
   ]
  },
  {
   "cell_type": "code",
   "execution_count": 3,
   "metadata": {},
   "outputs": [
    {
     "name": "stdout",
     "output_type": "stream",
     "text": [
      "Other available cosmologies: Cosmology, FLRW, LambdaCDM, FlatLambdaCDM, wCDM, FlatwCDM, w0waCDM, Flatw0waCDM, wpwaCDM, w0wzCDM\n"
     ]
    }
   ],
   "source": [
    "from astropy.cosmology import Cosmology  # the base class\n",
    "\n",
    "def all_subclasses(cosmo):  # recursively find all subclasses\n",
    "    yield cosmo.__qualname__\n",
    "    for c in cosmo.__subclasses__(): yield from all_subclasses(c)\n",
    "\n",
    "print(\"Other available cosmologies:\", \", \".join(all_subclasses(Cosmology)))"
   ]
  },
  {
   "cell_type": "markdown",
   "metadata": {},
   "source": [
    "To work with a cosmology we must create an instance, a *realization*, of the cosmology class.\n",
    "A realization sets single values for the cosmological parameters and allows for numerical computation."
   ]
  },
  {
   "cell_type": "code",
   "execution_count": 4,
   "metadata": {},
   "outputs": [
    {
     "data": {
      "text/plain": [
       "FlatLambdaCDM(H0=70 km / (Mpc s), Om0=0.3, Tcmb0=2.7 K, Neff=3.04, m_nu=[0. 0. 0.] eV, Ob0=None)"
      ]
     },
     "execution_count": 4,
     "metadata": {},
     "output_type": "execute_result"
    }
   ],
   "source": [
    "# make a realization, setting the required H0 & Om0 and overriding the default Tcmb0\n",
    "cosmo = FlatLambdaCDM(H0=70*u.km/u.s/u.Mpc, Om0=0.3, Tcmb0=2.7*u.K)\n",
    "cosmo"
   ]
  },
  {
   "cell_type": "markdown",
   "metadata": {},
   "source": [
    "Now the attributes and methods shown above can be called."
   ]
  },
  {
   "cell_type": "code",
   "execution_count": 5,
   "metadata": {},
   "outputs": [
    {
     "data": {
      "text/latex": [
       "$70 \\; \\mathrm{\\frac{km}{Mpc\\,s}}$"
      ],
      "text/plain": [
       "<Quantity 70. km / (Mpc s)>"
      ]
     },
     "execution_count": 5,
     "metadata": {},
     "output_type": "execute_result"
    }
   ],
   "source": [
    "cosmo.H0"
   ]
  },
  {
   "cell_type": "code",
   "execution_count": 6,
   "metadata": {},
   "outputs": [
    {
     "data": {
      "text/latex": [
       "$13.96846 \\; \\mathrm{Gyr}$"
      ],
      "text/plain": [
       "<Quantity 13.96846031 Gyr>"
      ]
     },
     "execution_count": 6,
     "metadata": {},
     "output_type": "execute_result"
    }
   ],
   "source": [
    "cosmo.hubble_time"
   ]
  },
  {
   "cell_type": "code",
   "execution_count": 7,
   "metadata": {},
   "outputs": [
    {
     "data": {
      "text/latex": [
       "$397.8992 \\; \\mathrm{Mpc}$"
      ],
      "text/plain": [
       "<Quantity 397.89919802 Mpc>"
      ]
     },
     "execution_count": 7,
     "metadata": {},
     "output_type": "execute_result"
    }
   ],
   "source": [
    "cosmo.angular_diameter_distance_z1z2(2, 4)"
   ]
  },
  {
   "cell_type": "code",
   "execution_count": 8,
   "metadata": {},
   "outputs": [
    {
     "data": {
      "text/latex": [
       "$[3303.5374,~5179.0432,~6354.3427,~7168.5392,~7773.0968] \\; \\mathrm{Mpc}$"
      ],
      "text/plain": [
       "<Quantity [3303.53737457, 5179.04318219, 6354.34269871, 7168.53917228,\n",
       "           7773.09684295] Mpc>"
      ]
     },
     "execution_count": 8,
     "metadata": {},
     "output_type": "execute_result"
    }
   ],
   "source": [
    "# these also work with vectorized input\n",
    "cosmo.comoving_distance([1, 2, 3, 4, 5])"
   ]
  },
  {
   "cell_type": "markdown",
   "metadata": {},
   "source": [
    "## Built-in Cosmology Realizations\n"
   ]
  },
  {
   "cell_type": "markdown",
   "metadata": {},
   "source": [
    "While the cosmology classes support arbitry realizations, most often we are looking to work with a \"standard\" cosmology, such as the Planck 2018 best-fit values.\n",
    "\n",
    "Astropy provides a number of these built-in realizations:"
   ]
  },
  {
   "cell_type": "code",
   "execution_count": 9,
   "metadata": {},
   "outputs": [
    {
     "name": "stdout",
     "output_type": "stream",
     "text": [
      "['Planck18', 'Planck18_arXiv_v2', 'Planck15', 'Planck13', 'WMAP9', 'WMAP7', 'WMAP5']\n"
     ]
    }
   ],
   "source": [
    "print(cosmology.realizations.__all__[1:])"
   ]
  },
  {
   "cell_type": "markdown",
   "metadata": {},
   "source": [
    "From hereon we will work with the ``Planck18`` realization."
   ]
  },
  {
   "cell_type": "code",
   "execution_count": 10,
   "metadata": {},
   "outputs": [
    {
     "data": {
      "text/plain": [
       "FlatLambdaCDM(name=\"Planck18\", H0=67.7 km / (Mpc s), Om0=0.31, Tcmb0=2.725 K, Neff=3.05, m_nu=[0.   0.   0.06] eV, Ob0=0.049)"
      ]
     },
     "execution_count": 10,
     "metadata": {},
     "output_type": "execute_result"
    }
   ],
   "source": [
    "from astropy.cosmology import Planck18; Planck18"
   ]
  },
  {
   "cell_type": "markdown",
   "metadata": {},
   "source": [
    "The Planck'18 realization sets the cosmology components, the temperature, and also has massive neutrinos."
   ]
  },
  {
   "cell_type": "markdown",
   "metadata": {},
   "source": [
    "Astropy ``cosmology`` and ``Quantity``s are built on NumPy, meaning that all methods are vectorized.\n",
    "We can see this in the following plot showing the Universe's age as a function of redshift."
   ]
  },
  {
   "cell_type": "code",
   "execution_count": 11,
   "metadata": {},
   "outputs": [
    {
     "data": {
      "image/png": "[encoded data removed]",
      "text/plain": [
       "<Figure size 432x288 with 1 Axes>"
      ]
     },
     "metadata": {
      "needs_background": "light"
     },
     "output_type": "display_data"
    }
   ],
   "source": [
    "import numpy as np\n",
    "import matplotlib.pyplot as plt\n",
    "\n",
    "z = np.geomspace(0.1, 2e3, num=100)\n",
    "\n",
    "fig = plt.figure()\n",
    "ax = fig.add_subplot(xlabel=\"Redshift\", ylabel=\"Age [Gyr]\")\n",
    "ax.loglog(z, Planck18.age(z))\n",
    "ax.invert_xaxis()\n",
    "plt.show();"
   ]
  },
  {
   "cell_type": "markdown",
   "metadata": {},
   "source": [
    "### Modifying a Realization"
   ]
  },
  {
   "cell_type": "markdown",
   "metadata": {},
   "source": [
    "Cosmology realizations are immutable, but it's often useful to \"perturb\" about a cosmology. For this, cosmologies have a ``.clone()`` method that can also override any value, but keeps the remaining the same. For example,"
   ]
  },
  {
   "cell_type": "code",
   "execution_count": 12,
   "metadata": {},
   "outputs": [
    {
     "data": {
      "text/plain": [
       "FlatLambdaCDM(name=\"Planck18 (modified)\", H0=67.7 km / (Mpc s), Om0=0.4, Tcmb0=2.725 K, Neff=3.05, m_nu=[0.   0.   0.06] eV, Ob0=0.3)"
      ]
     },
     "execution_count": 12,
     "metadata": {},
     "output_type": "execute_result"
    }
   ],
   "source": [
    "newcosmo = Planck18.clone(Om0=0.4, Ob0=0.3)  # override \n",
    "newcosmo"
   ]
  },
  {
   "cell_type": "markdown",
   "metadata": {},
   "source": [
    "We can see the difference between ``Planck18`` and the new cosmology."
   ]
  },
  {
   "cell_type": "code",
   "execution_count": 13,
   "metadata": {},
   "outputs": [
    {
     "data": {
      "image/png": "[encoded data removed]",
      "text/plain": [
       "<Figure size 432x288 with 1 Axes>"
      ]
     },
     "metadata": {
      "needs_background": "light"
     },
     "output_type": "display_data"
    }
   ],
   "source": [
    "fig = plt.figure()\n",
    "ax = fig.add_subplot(title=\"Cosmology 'perturbation'\", xlabel=\"Redshift\", ylabel=r\"$1 - \\frac{\\rm{perturbed}}{\\rm{Planck'18}}$\")\n",
    "ax.semilogx(z, np.abs(1 - newcosmo.age(z)/Planck18.age(z)))\n",
    "ax.invert_xaxis()\n",
    "plt.show();"
   ]
  },
  {
   "cell_type": "markdown",
   "metadata": {},
   "source": [
    "## The Default Realization"
   ]
  },
  {
   "cell_type": "markdown",
   "metadata": {},
   "source": [
    "Consider the ``coordinates.Distance`` function. It is Astropy's flexible method to describe distances and understand the connection between distance, parallax, and other related distance measures."
   ]
  },
  {
   "cell_type": "code",
   "execution_count": 14,
   "metadata": {},
   "outputs": [],
   "source": [
    "from astropy.coordinates import Distance\n",
    "d = Distance(100 * u.Mpc)"
   ]
  },
  {
   "cell_type": "code",
   "execution_count": 15,
   "metadata": {},
   "outputs": [
    {
     "data": {
      "text/latex": [
       "$1e-05\\mathrm{marcsec}$"
      ],
      "text/plain": [
       "<Angle 1.e-05 marcsec>"
      ]
     },
     "execution_count": 15,
     "metadata": {},
     "output_type": "execute_result"
    }
   ],
   "source": [
    "d.parallax"
   ]
  },
  {
   "cell_type": "code",
   "execution_count": 16,
   "metadata": {},
   "outputs": [
    {
     "data": {
      "text/latex": [
       "$35 \\; \\mathrm{mag}$"
      ],
      "text/plain": [
       "<Quantity 35. mag>"
      ]
     },
     "execution_count": 16,
     "metadata": {},
     "output_type": "execute_result"
    }
   ],
   "source": [
    "d.distmod"
   ]
  },
  {
   "cell_type": "code",
   "execution_count": 17,
   "metadata": {},
   "outputs": [
    {
     "data": {
      "text/plain": [
       "0.02219437761440318"
      ]
     },
     "execution_count": 17,
     "metadata": {},
     "output_type": "execute_result"
    }
   ],
   "source": [
    "d.z  # the redshift"
   ]
  },
  {
   "cell_type": "markdown",
   "metadata": {},
   "source": [
    "The redshift calculation requires a Cosmology.\n",
    "When a ``Distance`` is initialized, it accepts the cosmology as a keyword argument, but if one is not provided, it will fall back to a default value. This default cosmology realization is controlled by the [``cosmology.default_cosmology``](https://docs.astropy.org/en/stable/api/astropy.cosmology.default_cosmology.html) global state (for more information see [``ScienceState``](https://docs.astropy.org/en/stable/api/astropy.utils.state.ScienceState.html)).\n",
    "\n",
    "Lets take a closer look."
   ]
  },
  {
   "cell_type": "code",
   "execution_count": 18,
   "metadata": {},
   "outputs": [],
   "source": [
    "from astropy.cosmology import default_cosmology"
   ]
  },
  {
   "cell_type": "code",
   "execution_count": 19,
   "metadata": {},
   "outputs": [
    {
     "data": {
      "text/plain": [
       "{'get', 'get_cosmology_from_string', 'set', 'validate'}"
      ]
     },
     "execution_count": 19,
     "metadata": {},
     "output_type": "execute_result"
    }
   ],
   "source": [
    "# the public methods\n",
    "{x for x in dir(default_cosmology) if not x.startswith(\"_\")}"
   ]
  },
  {
   "cell_type": "markdown",
   "metadata": {},
   "source": [
    "The ``get``/``set`` methods are the standard interface.\n",
    "\n",
    "``get`` will return the curent default cosmology realization,"
   ]
  },
  {
   "cell_type": "code",
   "execution_count": 20,
   "metadata": {},
   "outputs": [
    {
     "data": {
      "text/plain": [
       "FlatLambdaCDM(name=\"Planck18\", H0=67.7 km / (Mpc s), Om0=0.31, Tcmb0=2.725 K, Neff=3.05, m_nu=[0.   0.   0.06] eV, Ob0=0.049)"
      ]
     },
     "execution_count": 20,
     "metadata": {},
     "output_type": "execute_result"
    }
   ],
   "source": [
    "default_cosmology.get()  # to get the default Cosmology"
   ]
  },
  {
   "cell_type": "markdown",
   "metadata": {},
   "source": [
    "while ``set`` will set the default cosmology realization. If used as a [context-manager](https://docs.python.org/3/reference/compound_stmts.html#the-with-statement), the changed default cosmology realization\n",
    "will revert to the old default."
   ]
  },
  {
   "cell_type": "code",
   "execution_count": 21,
   "metadata": {},
   "outputs": [
    {
     "name": "stdout",
     "output_type": "stream",
     "text": [
      "New:  WMAP5\n",
      "Reverted:  Planck18\n"
     ]
    }
   ],
   "source": [
    "with default_cosmology.set(\"WMAP5\"):\n",
    "    cosmo = default_cosmology.get()\n",
    "    print(\"New: \", cosmo.name)\n",
    "print(\"Reverted: \", default_cosmology.get().name)"
   ]
  },
  {
   "cell_type": "markdown",
   "metadata": {},
   "source": [
    "Returning to ``Distance``, we can see how chaning the default cosmology realization will impact redshift calculations"
   ]
  },
  {
   "cell_type": "code",
   "execution_count": 22,
   "metadata": {},
   "outputs": [],
   "source": [
    "d = Distance(100 * u.Mpc)\n",
    "dz = d.z"
   ]
  },
  {
   "cell_type": "code",
   "execution_count": 23,
   "metadata": {},
   "outputs": [
    {
     "name": "stdout",
     "output_type": "stream",
     "text": [
      "0.0008059197634152568\n"
     ]
    }
   ],
   "source": [
    "with default_cosmology.set(\"WMAP5\"):\n",
    "    print(d.z - dz)"
   ]
  },
  {
   "cell_type": "markdown",
   "metadata": {},
   "source": [
    "For a stable distance-to-redshift, initialize ``Distance`` with a cosmology."
   ]
  },
  {
   "cell_type": "code",
   "execution_count": 24,
   "metadata": {},
   "outputs": [
    {
     "data": {
      "text/latex": [
       "$475.14002 \\; \\mathrm{Mpc}$"
      ],
      "text/plain": [
       "<Distance 475.14001994 Mpc>"
      ]
     },
     "execution_count": 24,
     "metadata": {},
     "output_type": "execute_result"
    }
   ],
   "source": [
    "Distance(z=0.1, cosmology=default_cosmology.get_cosmology_from_string(\"Planck13\"))"
   ]
  },
  {
   "cell_type": "markdown",
   "metadata": {},
   "source": [
    "## Equivalencies\n",
    "\n",
    "Equivalencies can be used to convert quantities that are not strictly the same physical type, but in a specific context are interchangable.  "
   ]
  },
  {
   "cell_type": "code",
   "execution_count": 25,
   "metadata": {},
   "outputs": [],
   "source": [
    "distance = 105 * (u.Mpc/u.littleh)"
   ]
  },
  {
   "cell_type": "code",
   "execution_count": 26,
   "metadata": {},
   "outputs": [
    {
     "name": "stdout",
     "output_type": "stream",
     "text": [
      "Cannot convert incompatible units.\n"
     ]
    }
   ],
   "source": [
    "# This raises an error because they are different units.\n",
    "try:\n",
    "    distance.to(u.Mpc)\n",
    "except u.UnitConversionError:\n",
    "    print(\"Cannot convert incompatible units.\")"
   ]
  },
  {
   "cell_type": "markdown",
   "metadata": {},
   "source": [
    "For cosmologies, Astropy offers a $h$ - $H_0$ equivalency for switching between the unitless and unit-ful Hubble constant. "
   ]
  },
  {
   "cell_type": "code",
   "execution_count": 27,
   "metadata": {},
   "outputs": [
    {
     "data": {
      "text/latex": [
       "$150 \\; \\mathrm{Mpc}$"
      ],
      "text/plain": [
       "<Quantity 150. Mpc>"
      ]
     },
     "execution_count": 27,
     "metadata": {},
     "output_type": "execute_result"
    }
   ],
   "source": [
    "# This succeeds using equivalencies.\n",
    "H0_70 = 70 * u.km / u.s / u.Mpc\n",
    "\n",
    "distance.to(u.Mpc, u.with_H0(H0_70))"
   ]
  },
  {
   "cell_type": "markdown",
   "metadata": {},
   "source": [
    "And vice versa"
   ]
  },
  {
   "cell_type": "code",
   "execution_count": 28,
   "metadata": {},
   "outputs": [
    {
     "data": {
      "text/latex": [
       "$105 \\; \\mathrm{\\frac{Mpc}{h_{100}}}$"
      ],
      "text/plain": [
       "<Quantity 105. Mpc / littleh>"
      ]
     },
     "execution_count": 28,
     "metadata": {},
     "output_type": "execute_result"
    }
   ],
   "source": [
    "(150 * u.Mpc).to(u.Mpc/u.littleh, u.with_H0(H0_70))"
   ]
  },
  {
   "cell_type": "markdown",
   "metadata": {},
   "source": [
    "This equivalency works for arbitrary Quantities."
   ]
  },
  {
   "cell_type": "code",
   "execution_count": 29,
   "metadata": {},
   "outputs": [
    {
     "data": {
      "text/latex": [
       "$1 \\; \\mathrm{L_{\\odot}}$"
      ],
      "text/plain": [
       "<Quantity 1. solLum>"
      ]
     },
     "execution_count": 29,
     "metadata": {},
     "output_type": "execute_result"
    }
   ],
   "source": [
    "luminosity = 0.49 * u.Lsun * u.littleh**-2\n",
    "luminosity.to(u.Lsun, u.with_H0(H0_70))"
   ]
  },
  {
   "cell_type": "markdown",
   "metadata": {},
   "source": [
    "Note that the equivalency is cosmology dependent."
   ]
  },
  {
   "cell_type": "code",
   "execution_count": 30,
   "metadata": {},
   "outputs": [
    {
     "name": "stdout",
     "output_type": "stream",
     "text": [
      "150.0 Mpc\n",
      "155.1877032219923 Mpc\n"
     ]
    }
   ],
   "source": [
    "print(distance.to(u.Mpc, u.with_H0(H0_70)),\n",
    "      distance.to(u.Mpc, u.with_H0(Planck18.H0)), sep=\"\\n\")"
   ]
  },
  {
   "cell_type": "markdown",
   "metadata": {},
   "source": [
    "To perform a number of computations with the same cosmology, use [astropy.units.add_enabled_equivalencies](https://docs.astropy.org/en/stable/api/astropy.units.add_enabled_equivalencies.html?highlight=add_enabled_equivalencies). When done as a ``with`` statement, this equivalency will only be enabled within the block and prevent mistakenly using the Planck18 equivalency when working with, e.g., WMAP data."
   ]
  },
  {
   "cell_type": "code",
   "execution_count": 31,
   "metadata": {},
   "outputs": [
    {
     "name": "stdout",
     "output_type": "stream",
     "text": [
      "distance: 155.1877032219923 Mpc\n",
      "luminosity: 1.0703654769474296 solLum\n"
     ]
    }
   ],
   "source": [
    "with u.add_enabled_equivalencies(u.with_H0(Planck18.H0)):\n",
    "    print(f\"distance: {distance.to(u.Mpc)}\",\n",
    "          f\"luminosity: {luminosity.to(u.Lsun)}\",sep=\"\\n\")"
   ]
  },
  {
   "cell_type": "markdown",
   "metadata": {},
   "source": [
    "There's a lot of flexibility with equivalencies, including a variety of other built-in equivalencies, useful in difference contexts.  So if you want to know more, you might want to check out the [equivalencies narrative documentation](https://docs.astropy.org/en/stable/units/equivalencies.html) or the [astropy.units.equivalencies reference docs](https://docs.astropy.org/en/stable/units/index.html#module-astropy.units.equivalencies)."
   ]
  },
  {
   "cell_type": "markdown",
   "metadata": {},
   "source": [
    "# Putting it all together:  a concise example\n"
   ]
  },
  {
   "cell_type": "markdown",
   "metadata": {},
   "source": [
    "Let's say we have a data set with an array of luminosity distances and we are interested in finding the "
   ]
  },
  {
   "cell_type": "code",
   "execution_count": 101,
   "metadata": {},
   "outputs": [],
   "source": [
    "from astropy.cosmology import z_at_value  # only works on scalar inputs"
   ]
  },
  {
   "cell_type": "code",
   "execution_count": 95,
   "metadata": {},
   "outputs": [],
   "source": [
    "N = 100\n",
    "distances = Distance(np.linspace(45, 2535, N) * u.Mpc)"
   ]
  },
  {
   "cell_type": "code",
   "execution_count": 108,
   "metadata": {},
   "outputs": [
    {
     "data": {
      "text/plain": [
       "(50, 100)"
      ]
     },
     "execution_count": 108,
     "metadata": {},
     "output_type": "execute_result"
    }
   ],
   "source": [
    "perturb_Om0 = np.linspace(-0.2, 0.2, num=50)\n",
    "num = 50\n",
    "zs = np.empty((num, N))\n",
    "\n",
    "for i, cosmo in enumerate(Planck18.clone(Om0=Planck18.Om0+dm, Ob0=Planck18.Om0+dm-0.001) for dm in perturb_Om0):\n",
    "    zs[i] = [z_at_value(cosmo.luminosity_distance, d) for d in distances]\n",
    "\n",
    "zs.shape"
   ]
  },
  {
   "cell_type": "code",
   "execution_count": 107,
   "metadata": {},
   "outputs": [
    {
     "name": "stderr",
     "output_type": "stream",
     "text": [
      "<ipython-input-107-544d91b11045>:7: UserWarning: Matplotlib is currently using module://ipykernel.pylab.backend_inline, which is a non-GUI backend, so cannot show the figure.\n",
      "  fig.show();\n"
     ]
    },
    {
     "data": {
      "image/png": "[encoded data removed]",
      "text/plain": [
       "<Figure size 432x288 with 1 Axes>"
      ]
     },
     "metadata": {
      "needs_background": "light"
     },
     "output_type": "display_data"
    }
   ],
   "source": [
    "fig = plt.figure()\n",
    "ax = fig.add_subplot(title=\"Perturbed Matter Component\", xlabel=\"Distance [Mpc]\", ylabel=\"z\")\n",
    "ax.plot(distances, zs.T, c=\"gray\", alpha=0.1);\n",
    "for z, dm in zip(zs[::10, :], perturb_Om0[::10]):\n",
    "    ax.plot(distances, z, label=r\"$\\Delta\\Omega_{m0}=$\" + f\"{Planck18.Om0+dm:.3}\")\n",
    "ax.legend()\n",
    "fig.show();"
   ]
  },
  {
   "cell_type": "markdown",
   "metadata": {},
   "source": [
    "# Exercises\n",
    "\n",
    "## Exercise 1\n",
    "\n",
    "Compute the redshift of matter-radiation equality for the Planck 2018 flat-$\\Lambda$CDM realization."
   ]
  },
  {
   "cell_type": "code",
   "execution_count": null,
   "metadata": {
    "slideshow": {
     "slide_type": "-"
    }
   },
   "outputs": [],
   "source": [
    "# Answer here (z)"
   ]
  },
  {
   "cell_type": "code",
   "execution_count": null,
   "metadata": {},
   "outputs": [],
   "source": [
    "# Answer here (comoving distance)"
   ]
  }
 ],
 "metadata": {
  "anaconda-cloud": {},
  "kernelspec": {
   "display_name": "Python 3",
   "language": "python",
   "name": "python3"
  },
  "language_info": {
   "codemirror_mode": {
    "name": "ipython",
    "version": 3
   },
   "file_extension": ".py",
   "mimetype": "text/x-python",
   "name": "python",
   "nbconvert_exporter": "python",
   "pygments_lexer": "ipython3",
   "version": "3.8.2"
  },
  "nteract": {
   "version": "0.28.0"
  },
  "toc": {
   "base_numbering": 1,
   "nav_menu": {},
   "number_sections": true,
   "sideBar": true,
   "skip_h1_title": false,
   "title_cell": "Table of Contents",
   "title_sidebar": "Contents",
   "toc_cell": false,
   "toc_position": {},
   "toc_section_display": true,
   "toc_window_display": false
  }
 },
 "nbformat": 4,
 "nbformat_minor": 4
}
