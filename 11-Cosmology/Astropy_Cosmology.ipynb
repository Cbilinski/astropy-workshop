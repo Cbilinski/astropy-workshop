{
 "cells": [
  {
   "cell_type": "markdown",
   "metadata": {},
   "source": [
    "# Astropy Cosmologies"
   ]
  },
  {
   "cell_type": "markdown",
   "metadata": {},
   "source": [
    "Astropy includes a convenient framework for defining cosmologies and working with realizations thereof.  These realizations hold the cosmological parameters and enable computation of a variety of redshift-parameterized properties, e.g. the luminosity distance.\n",
    "\n",
    "For more information about the features presented below, please see the\n",
    "[astropy.cosmology](https://docs.astropy.org/en/stable/cosmology/index.html) docs.\n",
    "\n",
    "Also note that this tutorial assumes you have little or no knowledge of the astropy cosmology docs.  If you're familiar with them and have interest in extending this framework to more cosmologies, realizations, or methods, Astropy always welcomes contributions."
   ]
  },
  {
   "cell_type": "markdown",
   "metadata": {},
   "source": [
    "**TODO writing is rewriting**"
   ]
  },
  {
   "cell_type": "markdown",
   "metadata": {},
   "source": [
    "## Introduction"
   ]
  },
  {
   "cell_type": "markdown",
   "metadata": {},
   "source": [
    "The [``astropy.cosmology``](https://docs.astropy.org/en/stable/cosmology/index.html) package provides an object-oriented approach to cosmology that tightly integrates with the rest of the Astropy ecosystem, and units in particular.\n",
    "\n",
    "With that in mind, the following is the standard set of imports to begin working with the cosmology package."
   ]
  },
  {
   "cell_type": "code",
   "execution_count": 1,
   "metadata": {},
   "outputs": [],
   "source": [
    "import astropy.units as u\n",
    "from astropy import cosmology"
   ]
  },
  {
   "cell_type": "markdown",
   "metadata": {},
   "source": [
    "The first thing we will need is to select a cosmology, essentially the physics, in which to work. The most commonly used is a flat $\\Lambda$CDM cosmology with a Friedmann–Lemaître–Robertson–Walker (FLRW) metric; and we will use it here as well.\n",
    "\n",
    "Concordant to OOP, in ``astropy.cosmology`` the cosmology types are classes, so we can import the flat-$\\Lambda$CDM cosmology and examine its public methods and attributes:"
   ]
  },
  {
   "cell_type": "code",
   "execution_count": 2,
   "metadata": {},
   "outputs": [
    {
     "name": "stdout",
     "output_type": "stream",
     "text": [
      "Attributes:  {'Ode0', 'critical_density0', 'Tcmb0', 'Onu0', 'Ogamma0', 'hubble_time', 'm_nu', 'Neff', 'has_massive_nu', 'H0', 'Ok0', 'Om0', 'Ob0', 'h', 'hubble_distance', 'Tnu0', 'name', 'Odm0'}\n",
      "\n",
      "Methods:  {'Ok', 'angular_diameter_distance', 'absorption_distance', 'Om', 'differential_comoving_volume', 'comoving_transverse_distance', 'Ob', 'kpc_proper_per_arcmin', 'kpc_comoving_per_arcmin', 'comoving_distance', 'distmod', 'lookback_distance', 'Tcmb', 'de_density_scale', 'lookback_time_integrand', 'age', 'efunc', 'w', 'Onu', 'inv_efunc', 'H', 'luminosity_distance', 'nu_relative_density', 'lookback_time', 'Ode', 'abs_distance_integrand', 'arcsec_per_kpc_proper', 'Odm', 'Tnu', 'comoving_volume', 'clone', 'Ogamma', 'scale_factor', 'critical_density', 'angular_diameter_distance_z1z2', 'arcsec_per_kpc_comoving'}\n"
     ]
    }
   ],
   "source": [
    "from astropy.cosmology import FlatLambdaCDM\n",
    "\n",
    "print(\"Attributes: \", {x for x in dir(FlatLambdaCDM) if\n",
    "                       (not x.startswith(\"_\") and not callable(getattr(FlatLambdaCDM, x)))})\n",
    "print(\"\\nMethods: \", {x for x in dir(FlatLambdaCDM) if\n",
    "                      (not x.startswith(\"_\") and callable(getattr(FlatLambdaCDM, x)))})"
   ]
  },
  {
   "cell_type": "markdown",
   "metadata": {},
   "source": [
    "Most of the attributes are for components to the energy density or derivations like the Hubble time.\n",
    "\n",
    "The methods are for more involved calculations, like integrating to find the comoving volume."
   ]
  },
  {
   "cell_type": "markdown",
   "metadata": {},
   "source": [
    "Before we dive into using the ``FlatLambdaCDM`` cosmology, it is worth noting that there are numerous other cosmologies for extensions to dark energy."
   ]
  },
  {
   "cell_type": "code",
   "execution_count": 3,
   "metadata": {},
   "outputs": [
    {
     "name": "stdout",
     "output_type": "stream",
     "text": [
      "Other available cosmologies: Cosmology, FLRW, LambdaCDM, FlatLambdaCDM, wCDM, FlatwCDM, w0waCDM, Flatw0waCDM, wpwaCDM, w0wzCDM\n"
     ]
    }
   ],
   "source": [
    "from astropy.cosmology import Cosmology  # the base class\n",
    "\n",
    "def all_subclasses(cosmo):\n",
    "    yield cosmo.__qualname__\n",
    "    for c in cosmo.__subclasses__(): yield from all_subclasses(c)\n",
    "\n",
    "print(\"Other available cosmologies:\", \", \".join(all_subclasses(Cosmology)))"
   ]
  },
  {
   "cell_type": "markdown",
   "metadata": {},
   "source": [
    "To work with a cosmology we must create an instance, a *realization*, of the cosmology."
   ]
  },
  {
   "cell_type": "code",
   "execution_count": 4,
   "metadata": {},
   "outputs": [
    {
     "data": {
      "text/plain": [
       "FlatLambdaCDM(H0=70 km / (Mpc s), Om0=0.3, Tcmb0=2.7 K, Neff=3.04, m_nu=[0. 0. 0.] eV, Ob0=None)"
      ]
     },
     "execution_count": 4,
     "metadata": {},
     "output_type": "execute_result"
    }
   ],
   "source": [
    "cosmo = FlatLambdaCDM(H0=70*u.km/u.s/u.Mpc, Om0=0.3, Tcmb0=2.7*u.K)\n",
    "cosmo"
   ]
  },
  {
   "cell_type": "markdown",
   "metadata": {},
   "source": [
    "Now the attributes and methods shown above can be called."
   ]
  },
  {
   "cell_type": "code",
   "execution_count": 5,
   "metadata": {},
   "outputs": [
    {
     "data": {
      "text/latex": [
       "$70 \\; \\mathrm{\\frac{km}{Mpc\\,s}}$"
      ],
      "text/plain": [
       "<Quantity 70. km / (Mpc s)>"
      ]
     },
     "execution_count": 5,
     "metadata": {},
     "output_type": "execute_result"
    }
   ],
   "source": [
    "cosmo.H0"
   ]
  },
  {
   "cell_type": "code",
   "execution_count": 6,
   "metadata": {},
   "outputs": [
    {
     "data": {
      "text/latex": [
       "$13.96846 \\; \\mathrm{Gyr}$"
      ],
      "text/plain": [
       "<Quantity 13.96846031 Gyr>"
      ]
     },
     "execution_count": 6,
     "metadata": {},
     "output_type": "execute_result"
    }
   ],
   "source": [
    "cosmo.hubble_time"
   ]
  },
  {
   "cell_type": "code",
   "execution_count": 7,
   "metadata": {},
   "outputs": [
    {
     "data": {
      "text/latex": [
       "$397.8992 \\; \\mathrm{Mpc}$"
      ],
      "text/plain": [
       "<Quantity 397.89919802 Mpc>"
      ]
     },
     "execution_count": 7,
     "metadata": {},
     "output_type": "execute_result"
    }
   ],
   "source": [
    "cosmo.angular_diameter_distance_z1z2(2, 4)"
   ]
  },
  {
   "cell_type": "code",
   "execution_count": 8,
   "metadata": {},
   "outputs": [
    {
     "data": {
      "text/latex": [
       "$[3303.5374,~5179.0432,~6354.3427,~7168.5392,~7773.0968] \\; \\mathrm{Mpc}$"
      ],
      "text/plain": [
       "<Quantity [3303.53737457, 5179.04318219, 6354.34269871, 7168.53917228,\n",
       "           7773.09684295] Mpc>"
      ]
     },
     "execution_count": 8,
     "metadata": {},
     "output_type": "execute_result"
    }
   ],
   "source": [
    "# these also work with vectorized input\n",
    "cosmo.comoving_distance([1, 2, 3, 4, 5])"
   ]
  },
  {
   "cell_type": "markdown",
   "metadata": {},
   "source": [
    "## Built-in Cosmology Realizations\n"
   ]
  },
  {
   "cell_type": "markdown",
   "metadata": {},
   "source": [
    "While the cosmology classes support arbitry realizationss, most often we are looking to work with a \"standard\" cosmology, such as the Planck 2018 best-fit values.\n",
    "\n",
    "Astropy provides number of built-in realizations:"
   ]
  },
  {
   "cell_type": "code",
   "execution_count": 9,
   "metadata": {},
   "outputs": [
    {
     "name": "stdout",
     "output_type": "stream",
     "text": [
      "['Planck18', 'Planck18_arXiv_v2', 'Planck15', 'Planck13', 'WMAP9', 'WMAP7', 'WMAP5']\n"
     ]
    }
   ],
   "source": [
    "print(cosmology.realizations.__all__[1:])"
   ]
  },
  {
   "cell_type": "markdown",
   "metadata": {},
   "source": [
    "From hereon we will work with the ``Planck18`` realization."
   ]
  },
  {
   "cell_type": "code",
   "execution_count": 10,
   "metadata": {},
   "outputs": [
    {
     "data": {
      "text/plain": [
       "FlatLambdaCDM(name=\"Planck18\", H0=67.7 km / (Mpc s), Om0=0.31, Tcmb0=2.725 K, Neff=3.05, m_nu=[0.   0.   0.06] eV, Ob0=0.049)"
      ]
     },
     "execution_count": 10,
     "metadata": {},
     "output_type": "execute_result"
    }
   ],
   "source": [
    "from astropy.cosmology import Planck18\n",
    "Planck18"
   ]
  },
  {
   "cell_type": "code",
   "execution_count": 11,
   "metadata": {},
   "outputs": [
    {
     "data": {
      "image/png": "[encoded data removed]",
      "text/plain": [
       "<Figure size 432x288 with 1 Axes>"
      ]
     },
     "metadata": {
      "needs_background": "light"
     },
     "output_type": "display_data"
    }
   ],
   "source": [
    "import numpy as np\n",
    "import matplotlib.pyplot as plt\n",
    "\n",
    "z = np.geomspace(0.1, 2e3)\n",
    "plt.loglog(z, Planck18.age(z), \".\")\n",
    "plt.gca().invert_xaxis()\n",
    "plt.xlabel(\"Redshift\")\n",
    "plt.ylabel(\"Age [Gyr]\")\n",
    "plt.show();"
   ]
  },
  {
   "cell_type": "markdown",
   "metadata": {},
   "source": [
    "### Modifying a Realization"
   ]
  },
  {
   "cell_type": "markdown",
   "metadata": {},
   "source": [
    "Cosmology realizations are immutable, but it's often useful to \"perturb\" about a cosmology. For this cosmologies have a ``clone`` method that can also override any value. For example,"
   ]
  },
  {
   "cell_type": "code",
   "execution_count": 12,
   "metadata": {},
   "outputs": [
    {
     "data": {
      "text/plain": [
       "FlatLambdaCDM(name=\"Planck18 (modified)\", H0=67.7 km / (Mpc s), Om0=0.4, Tcmb0=2.725 K, Neff=3.05, m_nu=[0.   0.   0.06] eV, Ob0=0.3)"
      ]
     },
     "execution_count": 12,
     "metadata": {},
     "output_type": "execute_result"
    }
   ],
   "source": [
    "newcosmo = Planck18.clone(Om0=0.4, Ob0=0.3)\n",
    "newcosmo"
   ]
  },
  {
   "cell_type": "code",
   "execution_count": 25,
   "metadata": {},
   "outputs": [
    {
     "data": {
      "image/png": "[encoded data removed]",
      "text/plain": [
       "<Figure size 432x288 with 1 Axes>"
      ]
     },
     "metadata": {
      "needs_background": "light"
     },
     "output_type": "display_data"
    }
   ],
   "source": [
    "z = np.geomspace(0.1, 2e3)\n",
    "plt.loglog(z, np.abs(newcosmo.age(z)/Planck18.age(z) - 1), \".\")\n",
    "plt.gca().invert_xaxis()\n",
    "plt.xlabel(\"Redshift\")\n",
    "plt.ylabel(\"Fractional Error\")\n",
    "plt.show();"
   ]
  },
  {
   "cell_type": "markdown",
   "metadata": {},
   "source": [
    "## The Default Realization"
   ]
  },
  {
   "cell_type": "code",
   "execution_count": 14,
   "metadata": {},
   "outputs": [
    {
     "data": {
      "text/plain": [
       "FlatLambdaCDM(name=\"Planck18\", H0=67.7 km / (Mpc s), Om0=0.31, Tcmb0=2.725 K, Neff=3.05, m_nu=[0.   0.   0.06] eV, Ob0=0.049)"
      ]
     },
     "execution_count": 14,
     "metadata": {},
     "output_type": "execute_result"
    }
   ],
   "source": [
    "cosmology.default_cosmology.get()"
   ]
  },
  {
   "cell_type": "code",
   "execution_count": 15,
   "metadata": {},
   "outputs": [
    {
     "name": "stdout",
     "output_type": "stream",
     "text": [
      "FlatLambdaCDM(name=\"WMAP5\", H0=70.2 km / (Mpc s), Om0=0.277, Tcmb0=2.725 K, Neff=3.04, m_nu=[0. 0. 0.] eV, Ob0=0.0459)\n"
     ]
    }
   ],
   "source": [
    "with cosmology.default_cosmology.set(\"WMAP5\"):\n",
    "    cosmo = cosmology.default_cosmology.get()\n",
    "    print(cosmo)"
   ]
  },
  {
   "cell_type": "code",
   "execution_count": 26,
   "metadata": {},
   "outputs": [],
   "source": [
    "from astropy.coordinates import Distance"
   ]
  },
  {
   "cell_type": "code",
   "execution_count": 33,
   "metadata": {},
   "outputs": [],
   "source": [
    "d = Distance(100 * u.Mpc)"
   ]
  },
  {
   "cell_type": "code",
   "execution_count": 34,
   "metadata": {},
   "outputs": [
    {
     "data": {
      "text/plain": [
       "0.02219437761440318"
      ]
     },
     "execution_count": 34,
     "metadata": {},
     "output_type": "execute_result"
    }
   ],
   "source": [
    "dz = d.z\n",
    "dz"
   ]
  },
  {
   "cell_type": "code",
   "execution_count": 35,
   "metadata": {},
   "outputs": [
    {
     "name": "stdout",
     "output_type": "stream",
     "text": [
      "0.0008059197634152568\n"
     ]
    }
   ],
   "source": [
    "with cosmology.default_cosmology.set(\"WMAP5\"):\n",
    "    print(d.z - dz)"
   ]
  },
  {
   "cell_type": "markdown",
   "metadata": {},
   "source": [
    "## Equivalencies\n",
    "\n",
    "Equivalencies can be used to convert quantities that are not strictly the same physical type, but in a specific context are interchangable.  "
   ]
  },
  {
   "cell_type": "code",
   "execution_count": 17,
   "metadata": {},
   "outputs": [],
   "source": [
    "distance = 105 * (u.Mpc/u.littleh)"
   ]
  },
  {
   "cell_type": "code",
   "execution_count": 18,
   "metadata": {},
   "outputs": [
    {
     "name": "stdout",
     "output_type": "stream",
     "text": [
      "Cannot convert incompatible units.\n"
     ]
    }
   ],
   "source": [
    "# This raises an error because they are different units.\n",
    "try:\n",
    "    distance.to(u.Mpc)\n",
    "except u.UnitConversionError:\n",
    "    print(\"Cannot convert incompatible units.\")"
   ]
  },
  {
   "cell_type": "markdown",
   "metadata": {},
   "source": [
    "For cosmologies, Astropy offers a $h$ - $H_0$ equivalency for switching between the unitless and unit-ful Hubble constant. "
   ]
  },
  {
   "cell_type": "code",
   "execution_count": 19,
   "metadata": {},
   "outputs": [
    {
     "data": {
      "text/latex": [
       "$150 \\; \\mathrm{Mpc}$"
      ],
      "text/plain": [
       "<Quantity 150. Mpc>"
      ]
     },
     "execution_count": 19,
     "metadata": {},
     "output_type": "execute_result"
    }
   ],
   "source": [
    "# This succeeds using equivalencies.\n",
    "H0_70 = 70 * u.km / u.s / u.Mpc\n",
    "\n",
    "distance.to(u.Mpc, u.with_H0(H0_70))"
   ]
  },
  {
   "cell_type": "markdown",
   "metadata": {},
   "source": [
    "And vice versa"
   ]
  },
  {
   "cell_type": "code",
   "execution_count": 20,
   "metadata": {},
   "outputs": [
    {
     "data": {
      "text/latex": [
       "$105 \\; \\mathrm{\\frac{Mpc}{h_{100}}}$"
      ],
      "text/plain": [
       "<Quantity 105. Mpc / littleh>"
      ]
     },
     "execution_count": 20,
     "metadata": {},
     "output_type": "execute_result"
    }
   ],
   "source": [
    "(150 * u.Mpc).to(u.Mpc/u.littleh, u.with_H0(H0_70))"
   ]
  },
  {
   "cell_type": "markdown",
   "metadata": {},
   "source": [
    "This equivalency works for arbitrary Quantities."
   ]
  },
  {
   "cell_type": "code",
   "execution_count": 21,
   "metadata": {},
   "outputs": [
    {
     "data": {
      "text/latex": [
       "$1 \\; \\mathrm{L_{\\odot}}$"
      ],
      "text/plain": [
       "<Quantity 1. solLum>"
      ]
     },
     "execution_count": 21,
     "metadata": {},
     "output_type": "execute_result"
    }
   ],
   "source": [
    "luminosity = 0.49 * u.Lsun * u.littleh**-2\n",
    "luminosity.to(u.Lsun, u.with_H0(H0_70))"
   ]
  },
  {
   "cell_type": "markdown",
   "metadata": {},
   "source": [
    "Note that the equivalency is cosmology dependent."
   ]
  },
  {
   "cell_type": "code",
   "execution_count": 40,
   "metadata": {},
   "outputs": [
    {
     "name": "stdout",
     "output_type": "stream",
     "text": [
      "150.0 Mpc\n",
      "155.1877032219923 Mpc\n"
     ]
    }
   ],
   "source": [
    "print(distance.to(u.Mpc, u.with_H0(H0_70)),\n",
    "      distance.to(u.Mpc, u.with_H0(Planck18.H0)), sep=\"\\n\")"
   ]
  },
  {
   "cell_type": "markdown",
   "metadata": {},
   "source": [
    "To perform a number of computations with the same cosmology, use [astropy.units.add_enabled_equivalencies](https://docs.astropy.org/en/stable/api/astropy.units.add_enabled_equivalencies.html?highlight=add_enabled_equivalencies). When done as a ``with`` statement, this equivalency will only be enabled within the block and prevent mistakenly using the Planck18 equivalency when working with, e.g., WMAP data."
   ]
  },
  {
   "cell_type": "code",
   "execution_count": 23,
   "metadata": {},
   "outputs": [
    {
     "name": "stdout",
     "output_type": "stream",
     "text": [
      "distance: 155.1877032219923 Mpc\n",
      "luminosity: 1.0703654769474296 solLum\n"
     ]
    }
   ],
   "source": [
    "with u.add_enabled_equivalencies(u.with_H0(Planck18.H0)):\n",
    "    print(f\"distance: {distance.to(u.Mpc)}\",\n",
    "          f\"luminosity: {luminosity.to(u.Lsun)}\",sep=\"\\n\")"
   ]
  },
  {
   "cell_type": "markdown",
   "metadata": {},
   "source": [
    "There's a lot of flexibility with equivalencies, including a variety of other built-in equivalencies, useful in difference contexts.  So if you want to know more, you might want to check out the [equivalencies narrative documentation](https://docs.astropy.org/en/stable/units/equivalencies.html) or the [astropy.units.equivalencies reference docs](https://docs.astropy.org/en/stable/units/index.html#module-astropy.units.equivalencies)."
   ]
  },
  {
   "cell_type": "markdown",
   "metadata": {},
   "source": [
    "# Putting it all together:  a concise example\n"
   ]
  },
  {
   "cell_type": "code",
   "execution_count": null,
   "metadata": {},
   "outputs": [],
   "source": []
  },
  {
   "cell_type": "markdown",
   "metadata": {},
   "source": [
    "# Exercises\n",
    "\n",
    "## Exercise 1\n",
    "\n",
    "Compute redshift of matter-radiation equality for the Planck 2018 flat-$\\Lambda$CDM realization."
   ]
  },
  {
   "cell_type": "code",
   "execution_count": null,
   "metadata": {
    "slideshow": {
     "slide_type": "-"
    }
   },
   "outputs": [],
   "source": [
    "# Answer here (z)"
   ]
  },
  {
   "cell_type": "code",
   "execution_count": null,
   "metadata": {},
   "outputs": [],
   "source": [
    "# Answer here (comoving distance)"
   ]
  }
 ],
 "metadata": {
  "anaconda-cloud": {},
  "kernelspec": {
   "display_name": "dev",
   "language": "python",
   "name": "dev"
  },
  "language_info": {
   "codemirror_mode": {
    "name": "ipython",
    "version": 3
   },
   "file_extension": ".py",
   "mimetype": "text/x-python",
   "name": "python",
   "nbconvert_exporter": "python",
   "pygments_lexer": "ipython3",
   "version": "3.8.2"
  },
  "nteract": {
   "version": "0.28.0"
  },
  "toc": {
   "base_numbering": 1,
   "nav_menu": {},
   "number_sections": true,
   "sideBar": true,
   "skip_h1_title": false,
   "title_cell": "Table of Contents",
   "title_sidebar": "Contents",
   "toc_cell": false,
   "toc_position": {},
   "toc_section_display": true,
   "toc_window_display": false
  }
 },
 "nbformat": 4,
 "nbformat_minor": 4
}
